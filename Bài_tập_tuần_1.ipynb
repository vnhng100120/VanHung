{
  "nbformat": 4,
  "nbformat_minor": 0,
  "metadata": {
    "colab": {
      "name": "Bài tập tuần 1",
      "provenance": [],
      "collapsed_sections": [],
      "include_colab_link": true
    },
    "kernelspec": {
      "display_name": "Python 3",
      "name": "python3"
    }
  },
  "cells": [
    {
      "cell_type": "markdown",
      "metadata": {
        "id": "view-in-github",
        "colab_type": "text"
      },
      "source": [
        "<a href=\"https://colab.research.google.com/github/vnhng100120/VanHung/blob/main/B%C3%A0i_t%E1%BA%ADp_tu%E1%BA%A7n_1.ipynb\" target=\"_parent\"><img src=\"https://colab.research.google.com/assets/colab-badge.svg\" alt=\"Open In Colab\"/></a>"
      ]
    },
    {
      "cell_type": "markdown",
      "metadata": {
        "id": "7IPBMLIPF7z_"
      },
      "source": [
        "**Bài tập tuần 1**"
      ]
    },
    {
      "cell_type": "markdown",
      "metadata": {
        "id": "dhi72k6yV4Fg"
      },
      "source": [
        ""
      ]
    },
    {
      "cell_type": "markdown",
      "metadata": {
        "id": "Llq-_sh2BMHY"
      },
      "source": [
        "**Bài 1.** Bạn có 50 triệu đồng trong tài khoản ngân hàng, với lãi suất 4,5% hàng năm. bold text\n",
        "\n",
        "\n",
        "Tính xem:\n",
        "\n",
        "o\tSau 5 năm bạn có bao nhiêu tiền?\n",
        "\n",
        "o\tSau bao nhiêu năm bạn sẽ có ít nhất 100 triệu đồng?\n"
      ]
    },
    {
      "cell_type": "code",
      "metadata": {
        "id": "F2tIGz9CBRNA",
        "colab": {
          "base_uri": "https://localhost:8080/"
        },
        "outputId": "25e7f76b-bd90-4a07-ccbb-73842996a28d"
      },
      "source": [
        "# Số tiền bạn có được sau 5 năm\n",
        "print(50000000+(50000000*4.5**5))"
      ],
      "execution_count": null,
      "outputs": [
        {
          "output_type": "stream",
          "name": "stdout",
          "text": [
            "92314062500.0\n"
          ]
        }
      ]
    },
    {
      "cell_type": "code",
      "metadata": {
        "id": "tiG_aWIBG_RG"
      },
      "source": [
        "#Sau bao nhiêu năm thì có ít nhất 100 triêu đồng\n"
      ],
      "execution_count": null,
      "outputs": []
    },
    {
      "cell_type": "markdown",
      "metadata": {
        "id": "Eb4ji9wMIQEF"
      },
      "source": [
        "**Bài 2: Nhập vào 2 số nguyên a và b, hãy tính và in ra a√b**\n",
        "\n",
        "\n",
        "\n",
        "\n",
        "\n"
      ]
    },
    {
      "cell_type": "code",
      "metadata": {
        "id": "hFSbJWt5JYcN"
      },
      "source": [
        "from math import sqrt\n",
        "a = int(input(\"Nhập vào a: \"))\n",
        "b = int(input(\"Nhập vào b: \"))\n",
        "c = a*sqrt(b)\n",
        "print(c)\n"
      ],
      "execution_count": null,
      "outputs": []
    },
    {
      "cell_type": "markdown",
      "metadata": {
        "id": "0Vr1RYvXMcnL"
      },
      "source": [
        "**Bài 3. Nhập số nguyên x, hãy đếm xem x có bao nhiêu chữ số, in ra chữ số đầu tiên của x.**"
      ]
    },
    {
      "cell_type": "code",
      "metadata": {
        "id": "RJWF2yMLMgjE",
        "colab": {
          "base_uri": "https://localhost:8080/"
        },
        "outputId": "080c43d2-69ca-48d2-b808-c3bd5777e3c2"
      },
      "source": [
        "x = int(input(\"x = \")) \n",
        "dem = 1\n",
        "while(x > 9):\n",
        "  x = x/10\n",
        "  x = int(x)\n",
        "  dem += 1\n",
        "print(\"có\", dem, \"chữ số\")\n",
        "print(\"chữ số đầu tiên là: \",x)"
      ],
      "execution_count": null,
      "outputs": [
        {
          "output_type": "stream",
          "name": "stdout",
          "text": [
            "x = 256\n",
            "có 3 chữ số\n",
            "chữ số đầu tiên là:  2\n"
          ]
        }
      ]
    },
    {
      "cell_type": "markdown",
      "metadata": {
        "id": "6_6LmgESOj4T"
      },
      "source": [
        "**Bài 4. Nhập vào từ bàn phím ba số a, b, c. Thực hiện các công việc dưới đây:**\n",
        "\n",
        "o\tIn ra màn hình giá trị lớn nhất trong 3 số\n",
        "\n",
        "o\tNếu có ít nhất hai số cùng nhận giá trị lớn nhất, in ra giá trị thứ ba còn lại\n"
      ]
    },
    {
      "cell_type": "code",
      "metadata": {
        "id": "7HXuVHWCOtl7"
      },
      "source": [
        "a = input(\"Nhập a: \")\n",
        "b = input(\"Nhập b: \")\n",
        "c = input(\"Nhập c: \")\n",
        "\n",
        "if(a>b):\n",
        "    print(a)\n",
        "elif(b>c):\n",
        "    print(b)\n",
        "else:\n",
        "    print(c)\n",
        "\n",
        "if(a==b):\n",
        "    print(c)\n",
        "elif(b==c):\n",
        "    print(a)\n",
        "elif(c==a):\n",
        "    print(b)\n"
      ],
      "execution_count": null,
      "outputs": []
    },
    {
      "cell_type": "markdown",
      "metadata": {
        "id": "RY5KlDFDQyPL"
      },
      "source": [
        "**Bài 5. Viết chương trình nhập số nguyên dương n và tính giá trị của biểu thức:**\n",
        "S = 1! + 2! + … + n!\n"
      ]
    },
    {
      "cell_type": "code",
      "metadata": {
        "id": "kTPR6DemRCmA"
      },
      "source": [
        "n = int(input(\"Nhập n: \"))\n",
        "\n",
        "def giaithua(a):\n",
        "    gt=1\n",
        "    for i in range(2,a+1):\n",
        "        gt*=i\n",
        "    return(gt)\n",
        "s=1\n",
        "for i in range(2,n+1):\n",
        "    s+=giaithua(i)\n",
        "print(\"Kết quả:\",s)"
      ],
      "execution_count": null,
      "outputs": []
    },
    {
      "cell_type": "markdown",
      "metadata": {
        "id": "MOhZif_d0gft"
      },
      "source": [
        "**Bài 6. Viết chương trình nhập điểm trung bình học tập của một sinh viên, sau đó dựa trên quy tắc dưới đây in ra đánh giá kết quả học tập của sinh viên đó.**\n",
        "\n",
        "o\tĐiểm dưới 3.5: xếp loại yếu\n",
        "\n",
        "o\tĐiểm từ 3.5 đến dưới 5: xếp loại kém\n",
        "\n",
        "o\tĐiểm từ 5 đến dưới 6.5: xếp loại trung bình\n",
        "\n",
        "o\tĐiểm từ 6.5 đến dưới 8: xếp loại khá\n",
        "\n",
        "o\tĐiểm từ 8 đến dưới 9: xếp loại giỏi\n",
        "\n",
        "o\tĐiểm từ 9 trở lên: xếp loại xuất sắc\n"
      ]
    },
    {
      "cell_type": "code",
      "metadata": {
        "id": "Jd3rUPZ0JDjt"
      },
      "source": [
        "diem = float(input(\"Nhập điểm: \"))\n",
        "if(diem < 3.5):\n",
        "  print(\"Xếp loại yếu\")\n",
        "elif(diem > 3.5 and diem < 5):\n",
        "  print(\"Xếp loại kém\")\n",
        "elif(diem > 5 and diem < 6.5):\n",
        "  print(\"Xếp loại trung bình\")\n",
        "elif(diem >= 6.5 and diem < 8):\n",
        "  print(\"Xếp loại khá\")\n",
        "elif(diem >= 8 and diem < 9):\n",
        "  print(\"Xếp loại giỏi\")\n",
        "else:\n",
        "  print(\"Xếp loại xuất sắc\")"
      ],
      "execution_count": null,
      "outputs": []
    },
    {
      "cell_type": "markdown",
      "metadata": {
        "id": "FqZINhnXK-hk"
      },
      "source": [
        "**Bài 7. Viết chương trình nhập hai số x và y, in ra tất cả các số nguyên tố nằm trong khoảng [x, y].**"
      ]
    },
    {
      "cell_type": "code",
      "metadata": {
        "id": "tppYdI5oLAzV"
      },
      "source": [
        "import math\n",
        "\n",
        "try:\n",
        "   a = int(input(\"Nhập x:\"))\n",
        "   b = int(input(\"Nhập y:\"))\n",
        "  \n",
        "   if a < 0 or b < 0:\n",
        "       print(\"Không nhập số âm\")\n",
        "   elif a > b:\n",
        "       print(\"x > y\")\n",
        "   else:\n",
        "       for i in range(a, b + 1):\n",
        "           if i > 1:       \n",
        "               for j in range(2, int(math.sqrt(i))+1):\n",
        "                   if i % j == 0:\n",
        "                       break\n",
        "               else:\n",
        "                   print(i, end=' ')\n",
        "except:\n",
        "   print(\"Không hợp lệ\")"
      ],
      "execution_count": null,
      "outputs": []
    },
    {
      "cell_type": "markdown",
      "metadata": {
        "id": "PiAn8CWHMtjV"
      },
      "source": [
        "**Bài 8. Viết chương trình cho phép người dùng nhập vào liên tiếp một dãy số tự nhiên (không biết trước độ dài), việc nhập dãy sẽ kết thúc khi người dùng nhập một số âm nào đó.**"
      ]
    },
    {
      "cell_type": "code",
      "metadata": {
        "id": "hp3i7ZivUwDx"
      },
      "source": [
        "n = 1\n",
        "while(n>=0):\n",
        "    n = int(input(\"Nhập n:\"))\n",
        "    print(n)\n",
        "else:\n",
        "    print(\"Kết thúc\")\n"
      ],
      "execution_count": null,
      "outputs": []
    }
  ]
}