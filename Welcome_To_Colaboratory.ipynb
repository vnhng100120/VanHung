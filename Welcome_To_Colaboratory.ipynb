{
  "nbformat": 4,
  "nbformat_minor": 0,
  "metadata": {
    "colab": {
      "name": "Welcome To Colaboratory",
      "provenance": [],
      "collapsed_sections": [],
      "toc_visible": true,
      "include_colab_link": true
    },
    "kernelspec": {
      "display_name": "Python 3",
      "name": "python3"
    }
  },
  "cells": [
    {
      "cell_type": "markdown",
      "metadata": {
        "id": "view-in-github",
        "colab_type": "text"
      },
      "source": [
        "<a href=\"https://colab.research.google.com/github/vnhng100120/VanHung/blob/main/Welcome_To_Colaboratory.ipynb\" target=\"_parent\"><img src=\"https://colab.research.google.com/assets/colab-badge.svg\" alt=\"Open In Colab\"/></a>"
      ]
    },
    {
      "cell_type": "markdown",
      "metadata": {
        "id": "7IPBMLIPF7z_"
      },
      "source": [
        "**Bài tập tuần 1**"
      ]
    },
    {
      "cell_type": "markdown",
      "metadata": {
        "id": "Llq-_sh2BMHY"
      },
      "source": [
        "**Bài 1.** Bạn có 50 triệu đồng trong tài khoản ngân hàng, với lãi suất 4,5% hàng năm. bold text\n",
        "\n",
        "\n",
        "Tính xem:\n",
        "\n",
        "o\tSau 5 năm bạn có bao nhiêu tiền?\n",
        "\n",
        "o\tSau bao nhiêu năm bạn sẽ có ít nhất 100 triệu đồng?\n"
      ]
    },
    {
      "cell_type": "code",
      "metadata": {
        "id": "F2tIGz9CBRNA"
      },
      "source": [
        "# Số tiền bạn có được sau 5 năm\n",
        "print(50000000+(50000000*4.5**5))"
      ],
      "execution_count": null,
      "outputs": []
    },
    {
      "cell_type": "code",
      "metadata": {
        "id": "tiG_aWIBG_RG"
      },
      "source": [
        "#Sau bao nhiêu năm thì có ít nhất 100 triêu đồng\n"
      ],
      "execution_count": 10,
      "outputs": []
    },
    {
      "cell_type": "markdown",
      "metadata": {
        "id": "Eb4ji9wMIQEF"
      },
      "source": [
        "**Bài 2: Nhập vào 2 số nguyên a và b, hãy tính và in ra a√b**\n",
        "\n",
        "\n",
        "\n",
        "\n",
        "\n"
      ]
    },
    {
      "cell_type": "code",
      "metadata": {
        "id": "hFSbJWt5JYcN"
      },
      "source": [
        "from math import sqrt\n",
        "a = int(input(\"Nhập vào a: \"))\n",
        "b = int(input(\"Nhập vào b: \"))\n",
        "c = a*sqrt(b)\n",
        "print(c)\n"
      ],
      "execution_count": null,
      "outputs": []
    },
    {
      "cell_type": "markdown",
      "metadata": {
        "id": "0Vr1RYvXMcnL"
      },
      "source": [
        "**Bài 3. Nhập số nguyên x, hãy đếm xem x có bao nhiêu chữ số, in ra chữ số đầu tiên của x.**"
      ]
    },
    {
      "cell_type": "code",
      "metadata": {
        "id": "RJWF2yMLMgjE"
      },
      "source": [
        "x = int(input(\"x = \")) \n",
        "dem = 1\n",
        "while(x > 9):\n",
        "  x = x/10\n",
        "  x = int(x)\n",
        "  dem += 1\n",
        "print(\"có\", dem, \"chữ số\")\n",
        "print(\"chữ số đầu tiên là: \",x)"
      ],
      "execution_count": null,
      "outputs": []
    },
    {
      "cell_type": "markdown",
      "metadata": {
        "id": "-2xVXA5AOsMy"
      },
      "source": [
        ""
      ]
    },
    {
      "cell_type": "markdown",
      "metadata": {
        "id": "6_6LmgESOj4T"
      },
      "source": [
        "**Bài 4. Nhập vào từ bàn phím ba số a, b, c. Thực hiện các công việc dưới đây:**\n",
        "\n",
        "o\tIn ra màn hình giá trị lớn nhất trong 3 số\n",
        "\n",
        "o\tNếu có ít nhất hai số cùng nhận giá trị lớn nhất, in ra giá trị thứ ba còn lại\n"
      ]
    },
    {
      "cell_type": "code",
      "metadata": {
        "id": "7HXuVHWCOtl7"
      },
      "source": [
        "a = input(\"Nhập a: \")\n",
        "b = input(\"Nhập b: \")\n",
        "c = input(\"Nhập c: \")\n",
        "\n",
        "if(a>b):\n",
        "    print(a)\n",
        "elif(b>c):\n",
        "    print(b)\n",
        "else:\n",
        "    print(c)\n",
        "\n",
        "if(a==b):\n",
        "    print(c)\n",
        "elif(b==c):\n",
        "    print(a)\n",
        "elif(c==a):\n",
        "    print(b)\n"
      ],
      "execution_count": null,
      "outputs": []
    },
    {
      "cell_type": "markdown",
      "metadata": {
        "id": "RY5KlDFDQyPL"
      },
      "source": [
        "**Bài 5. Viết chương trình nhập số nguyên dương n và tính giá trị của biểu thức:**\n",
        "S = 1! + 2! + … + n!\n"
      ]
    },
    {
      "cell_type": "code",
      "metadata": {
        "id": "kTPR6DemRCmA"
      },
      "source": [
        "n = int(input(\"Nhập n: \"))\n",
        "\n",
        "def giaithua(a):\n",
        "    gt=1\n",
        "    for i in range(2,a+1):\n",
        "        gt*=i\n",
        "    return(gt)\n",
        "s=1\n",
        "for i in range(2,n+1):\n",
        "    s+=giaithua(i)\n",
        "print(\"Kết quả:\",s)"
      ],
      "execution_count": null,
      "outputs": []
    },
    {
      "cell_type": "markdown",
      "metadata": {
        "id": "MOhZif_d0gft"
      },
      "source": [
        ""
      ]
    }
  ]
}